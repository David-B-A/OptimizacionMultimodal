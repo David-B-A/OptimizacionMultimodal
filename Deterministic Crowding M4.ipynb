{
 "cells": [
  {
   "cell_type": "code",
   "execution_count": 10,
   "metadata": {
    "ExecuteTime": {
     "end_time": "2019-03-01T06:44:38.992016Z",
     "start_time": "2019-03-01T06:44:38.982022Z"
    }
   },
   "outputs": [],
   "source": [
    "import numpy as np\n",
    "import random\n",
    "import math"
   ]
  },
  {
   "cell_type": "code",
   "execution_count": 12,
   "metadata": {
    "ExecuteTime": {
     "end_time": "2019-03-01T06:58:42.727893Z",
     "start_time": "2019-03-01T06:58:41.850746Z"
    }
   },
   "outputs": [],
   "source": [
    "import plotly.plotly as py\n",
    "from plotly.grid_objs import Grid, Column\n",
    "import time\n",
    "py.sign_in('sneyder7713', 'paQ6biQqObjm8dNQ6wcf')"
   ]
  },
  {
   "cell_type": "code",
   "execution_count": 3,
   "metadata": {
    "ExecuteTime": {
     "end_time": "2019-03-01T05:54:33.370558Z",
     "start_time": "2019-03-01T05:54:33.360325Z"
    }
   },
   "outputs": [],
   "source": [
    "class individuo:\n",
    "    x=[];\n",
    "    fitness=0;\n",
    "    sigma=0;\n",
    "\n",
    "class fSeno:\n",
    "    '''suma del seno de todas las dimensiones'''\n",
    "    def fitness(self,x):\n",
    "        suma = 0\n",
    "        for i in range(0,len(x)):\n",
    "            suma += math.sin(x[i])\n",
    "        return suma\n"
   ]
  },
  {
   "cell_type": "code",
   "execution_count": 4,
   "metadata": {
    "ExecuteTime": {
     "end_time": "2019-03-01T05:54:33.519474Z",
     "start_time": "2019-03-01T05:54:33.373488Z"
    }
   },
   "outputs": [],
   "source": [
    "class M1:\n",
    "    def fitness(self,x):\n",
    "        suma = 0\n",
    "        for i in range(0, len(x)):\n",
    "            suma += self.f(x[i])\n",
    "        return suma\n",
    "    def f(self,xint):\n",
    "        return math.pow(math.sin(5.0*math.pi*xint), 6.0 )\n",
    "class M2:\n",
    "    def fitness(self,x):\n",
    "        suma = 0\n",
    "        for i in range(0, len(x)):\n",
    "            suma += self.f(x[i])\n",
    "        return suma\n",
    "    def f(self,xint):\n",
    "        m1 = M1()\n",
    "        y = (xint-0.1)/0.8;\n",
    "        return math.exp(-2.0*0.69314718*y*y)*m1.f(xint)\n",
    "class M3:\n",
    "    def fitness(self,x):\n",
    "        suma = 0\n",
    "        for i in range(0, len(x)):\n",
    "            suma += self.f(x[i])\n",
    "        return suma\n",
    "    def f(self,xint):\n",
    "        m1 = M1()\n",
    "        xlocal = math.pow( xint, 0.75 ) - 0.05;\n",
    "        return m1.f(xlocal)\n",
    "class M4:\n",
    "    def fitness(self,x):\n",
    "        suma = 0\n",
    "        for i in range(0, len(x)):\n",
    "            suma += self.f(x[i])\n",
    "        return suma\n",
    "    def f(self,xint):\n",
    "        m3 = M3()\n",
    "        v = m3.f(xint);\n",
    "        y = (xint-0.08)/0.854;\n",
    "        return math.exp(-2.0*0.69314718*y*y)*v"
   ]
  },
  {
   "cell_type": "code",
   "execution_count": 5,
   "metadata": {
    "ExecuteTime": {
     "end_time": "2019-03-01T05:54:33.593242Z",
     "start_time": "2019-03-01T05:54:33.531279Z"
    },
    "code_folding": []
   },
   "outputs": [],
   "source": [
    "class deterministic_crowding:\n",
    "    def procedimietoGeneral(self,p,f):\n",
    "        nuevaGeneracion =[]\n",
    "        for j in range (0,int(len(p)/2)):\n",
    "            padres =[]\n",
    "            padres.append(p[int(random.uniform(0,len(p)))])\n",
    "            padres.append(p[int(random.uniform(0,len(p)))])\n",
    "            hijos = self.cruce(padres, f)\n",
    "            seleccionados = self.reemplazo(padres, hijos)\n",
    "            for i in range(0, len(seleccionados)):\n",
    "                nuevaGeneracion.append(seleccionados[i])\n",
    "        return nuevaGeneracion\n",
    "    def cruce(self,padres, f):\n",
    "        hijos=[]\n",
    "        for h in range(0,2):\n",
    "            x=[]\n",
    "            for i in range(0,len(padres[0].x)):\n",
    "                alpha1=random.random()\n",
    "                alpha2=random.random()\n",
    "                alpha1=alpha1/(alpha1+alpha2)\n",
    "                alpha2=alpha2/(alpha1+alpha2)\n",
    "                hijo1= individuo()\n",
    "                x.append(alpha1*padres[0].x[i] + alpha2*padres[1].x[i])\n",
    "            hijo1.x = x\n",
    "            hijo1.fitness=f.fitness(hijo1.x);\n",
    "            hijos.append(hijo1);\n",
    "        return hijos\n",
    "    def reemplazo(self,padres, hijos):\n",
    "        s1 = self.distancia(padres[0],hijos[0]) + self.distancia(padres[1],hijos[1])\n",
    "        s2 = self.distancia(padres[0],hijos[1]) + self.distancia(padres[1],hijos[0])\n",
    "        seleccionados=[]\n",
    "        if s1 < s2:\n",
    "            if(padres[0].fitness > hijos[0].fitness):\n",
    "                seleccionados.append(padres[0])\n",
    "            else:\n",
    "                seleccionados.append(hijos[0])\n",
    "            if(padres[1].fitness > hijos[1].fitness):\n",
    "                seleccionados.append(padres[1])\n",
    "            else:\n",
    "                seleccionados.append(hijos[1])\n",
    "        else:\n",
    "            if(padres[0].fitness > hijos[1].fitness):\n",
    "                seleccionados.append(padres[0])\n",
    "            else:\n",
    "                seleccionados.append(hijos[1])\n",
    "            if(padres[1].fitness > hijos[0].fitness):\n",
    "                seleccionados.append(padres[1])\n",
    "            else:\n",
    "                seleccionados.append(hijos[0])\n",
    "        return seleccionados\n",
    "    def distancia(self,padre, hijo):\n",
    "        dist = 0\n",
    "        for i in range(0,len(padre.x)):\n",
    "            dist += abs(padre.x[i]-hijo.x[i])\n",
    "        return dist\n",
    "    "
   ]
  },
  {
   "cell_type": "code",
   "execution_count": 6,
   "metadata": {
    "ExecuteTime": {
     "end_time": "2019-03-01T05:54:39.508450Z",
     "start_time": "2019-03-01T05:54:39.406255Z"
    }
   },
   "outputs": [],
   "source": [
    "p = 0\n",
    "p =[]\n",
    "n=100\n",
    "d=1\n",
    "f= M4()\n",
    "iteraciones=100\n",
    "dcrowd = deterministic_crowding()\n",
    "a=0\n",
    "b=2\n",
    "xframes = []\n",
    "yframes = []\n",
    "xiter = []\n",
    "yiter = []\n",
    "for i in range(0,n):\n",
    "    temp = individuo()\n",
    "    x = []\n",
    "    for j in range(0,d):\n",
    "        x.append(random.uniform(a,b))\n",
    "    temp.x = x\n",
    "    xiter.append(x[0])\n",
    "    temp.fitness = f.fitness(temp.x)\n",
    "    yiter.append(temp.fitness)\n",
    "    p.append(temp)\n",
    "xframes.append(xiter)\n",
    "yframes.append(yiter)\n",
    "\n",
    "for i in range(0,iteraciones):\n",
    "    xiter = []\n",
    "    yiter = []\n",
    "    p = dcrowd.procedimietoGeneral(p,f)\n",
    "    for j in range(0,len(p)):\n",
    "        xiter.append(p[j].x[0])\n",
    "        yiter.append(p[j].fitness)\n",
    "    xframes.append(xiter)\n",
    "    yframes.append(yiter)\n",
    "xfunc=[]\n",
    "yfunc=[]\n",
    "for i in np.arange(a, b, 0.01).tolist():\n",
    "    xfunc.append(i)\n",
    "    yfunc.append(f.fitness([i]))"
   ]
  },
  {
   "cell_type": "code",
   "execution_count": 7,
   "metadata": {
    "ExecuteTime": {
     "end_time": "2019-03-01T05:54:42.409996Z",
     "start_time": "2019-03-01T05:54:40.409912Z"
    }
   },
   "outputs": [
    {
     "data": {
      "text/plain": [
       "'https://plot.ly/~dabelloa/103/'"
      ]
     },
     "execution_count": 7,
     "metadata": {},
     "output_type": "execute_result"
    }
   ],
   "source": [
    "columns = []\n",
    "for i in range(0, len(xframes)):\n",
    "    temp = Column(xframes[i], 'x'+str(i))\n",
    "    columns.append(temp)\n",
    "for i in range(0, len(yframes)):\n",
    "    temp = Column(yframes[i], 'y'+str(i))\n",
    "    columns.append(temp)\n",
    "temp = Column(xfunc, 'xfunc')\n",
    "columns.append(temp)\n",
    "temp = Column(yfunc, 'yfunc')\n",
    "columns.append(temp)\n",
    "\n",
    "grid = Grid(columns)\n",
    "py.grid_ops.upload(grid, 'det_crowd_grid_'+f.__class__.__name__+'__'+str(time.time()), auto_open=False)"
   ]
  },
  {
   "cell_type": "code",
   "execution_count": 8,
   "metadata": {
    "ExecuteTime": {
     "end_time": "2019-03-01T05:54:42.955377Z",
     "start_time": "2019-03-01T05:54:42.931418Z"
    }
   },
   "outputs": [
    {
     "data": {
      "text/plain": [
       "'M4'"
      ]
     },
     "execution_count": 8,
     "metadata": {},
     "output_type": "execute_result"
    }
   ],
   "source": [
    "f.__class__.__name__"
   ]
  },
  {
   "cell_type": "code",
   "execution_count": 13,
   "metadata": {
    "ExecuteTime": {
     "end_time": "2019-03-01T06:59:13.206363Z",
     "start_time": "2019-03-01T06:59:12.007862Z"
    },
    "code_folding": [
     19,
     28
    ],
    "scrolled": false
   },
   "outputs": [
    {
     "data": {
      "text/html": [
       "<iframe id=\"igraph\" scrolling=\"no\" style=\"border:none;\" seamless=\"seamless\" src=\"https://plot.ly/~sneyder7713/12.embed\" height=\"525px\" width=\"100%\"></iframe>"
      ],
      "text/plain": [
       "<plotly.tools.PlotlyDisplay object>"
      ]
     },
     "execution_count": 13,
     "metadata": {},
     "output_type": "execute_result"
    }
   ],
   "source": [
    "sliders_dict = {\n",
    "    'active': 0,\n",
    "    'yanchor': 'top',\n",
    "    'xanchor': 'left',\n",
    "    'currentvalue': {\n",
    "        'font': {'size': 20},\n",
    "        'prefix': 'Iter:',\n",
    "        'visible': True,\n",
    "        'xanchor': 'right'\n",
    "    },\n",
    "    'transition': {'duration': 300, 'easing': 'cubic-in-out'},\n",
    "    'pad': {'b': 10, 't': 50},\n",
    "    'len': 0.9,\n",
    "    'x': 0.1,\n",
    "    'y': 0,\n",
    "    'steps': []\n",
    "}\n",
    "\n",
    "\n",
    "updatemenus_dict = [\n",
    "    {\n",
    "        'buttons': [\n",
    "            {\n",
    "                'args': [None, {'frame': {'duration': 500, 'redraw': False},\n",
    "                         'fromcurrent': True, 'transition': {'duration': 300, 'easing': 'quadratic-in-out'}}],\n",
    "                'label': 'Play',\n",
    "                'method': 'animate'\n",
    "            },\n",
    "            {\n",
    "                'args': [[None], {'frame': {'duration': 0, 'redraw': False}, 'mode': 'immediate',\n",
    "                'transition': {'duration': 0}}],\n",
    "                'label': 'Pause',\n",
    "                'method': 'animate'\n",
    "            }\n",
    "        ],\n",
    "        'direction': 'left',\n",
    "        'pad': {'r': 10, 't': 87},\n",
    "        'showactive': False,\n",
    "        'type': 'buttons',\n",
    "        'x': 0.1,\n",
    "        'xanchor': 'right',\n",
    "        'y': 0,\n",
    "        'yanchor': 'top'\n",
    "    }\n",
    "]\n",
    "\n",
    "figure = {\n",
    "    'data': [],\n",
    "    'layout': {'title': 'Deterministic crowding',\n",
    "               'xaxis': {'range': [0, 2], 'autorange': True},\n",
    "               'yaxis': {'range': [0, 2], 'autorange': True},\n",
    "              },\n",
    "    'frames': []\n",
    "}\n",
    "figure['layout']['updatemenus'] = updatemenus_dict\n",
    "funcion = {\n",
    "    'xsrc': grid.get_column_reference('xfunc'),\n",
    "    'ysrc': grid.get_column_reference('yfunc'),\n",
    "    'mode': 'lines',\n",
    "    'marker': {\n",
    "            'color': '#000000'\n",
    "        },\n",
    "}\n",
    "figure['data'].append(funcion)\n",
    "individuos = {\n",
    "    'xsrc': grid.get_column_reference('x0'),\n",
    "    'ysrc': grid.get_column_reference('y0'),\n",
    "    'mode': 'markers',\n",
    "        'marker': {\n",
    "            'size': 8,\n",
    "            'color': '#00aaff'\n",
    "        },\n",
    "}\n",
    "figure['data'].append(individuos)\n",
    "for i in range(0,len(yframes)):\n",
    "    frame = {'data': [], 'name': str(i)}\n",
    "    data_dict = {\n",
    "        'xsrc': grid.get_column_reference('x'+str(i)),\n",
    "        'ysrc': grid.get_column_reference('y'+str(i)),\n",
    "        'mode': 'markers',\n",
    "    }\n",
    "    frame['data'].append({})\n",
    "    frame['data'].append(data_dict)\n",
    "    figure['frames'].append(frame)\n",
    "    slider_step = {'args': [\n",
    "        [i],\n",
    "        {'frame': {'duration': 300, 'redraw': False},\n",
    "         'mode': 'immediate',\n",
    "       'transition': {'duration': 300}}\n",
    "     ],\n",
    "     'label': i,\n",
    "     'method': 'animate'}\n",
    "    sliders_dict['steps'].append(slider_step)\n",
    "figure['layout']['sliders'] = [sliders_dict]\n",
    "py.icreate_animations(figure,'DetCrowd_'+f.__class__.__name__+'__'+str(time.time()))"
   ]
  },
  {
   "cell_type": "code",
   "execution_count": null,
   "metadata": {},
   "outputs": [],
   "source": []
  }
 ],
 "metadata": {
  "kernelspec": {
   "display_name": "Python 3",
   "language": "python",
   "name": "python3"
  },
  "language_info": {
   "codemirror_mode": {
    "name": "ipython",
    "version": 3
   },
   "file_extension": ".py",
   "mimetype": "text/x-python",
   "name": "python",
   "nbconvert_exporter": "python",
   "pygments_lexer": "ipython3",
   "version": "3.6.7"
  }
 },
 "nbformat": 4,
 "nbformat_minor": 2
}
